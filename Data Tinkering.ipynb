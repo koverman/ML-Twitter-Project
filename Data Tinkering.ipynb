{
 "cells": [
  {
   "cell_type": "code",
   "execution_count": 4,
   "metadata": {
    "collapsed": false
   },
   "outputs": [],
   "source": [
    "import json\n",
    "from pprint import pprint\n",
    "import numpy as np\n",
    "\n",
    "with open('condensed_2016.json') as data_file:    \n",
    "    data2016 = json.load(data_file)\n",
    "\n",
    "with open('condensed_2017.json') as data_file:    \n",
    "    data2017 = json.load(data_file)\n",
    "\n",
    "tweets=[]\n",
    "for i in range(len(data2016)-1):\n",
    "    tweets.append(data2016[i][\"text\"])\n",
    "for i in range(len(data2017)-1):\n",
    "    tweets.append(data2017[i][\"text\"])"
   ]
  },
  {
   "cell_type": "code",
   "execution_count": 6,
   "metadata": {
    "collapsed": false
   },
   "outputs": [],
   "source": [
    "tweet_chars=[]\n",
    "for i in range(len(tweets)-1):\n",
    "    tweet_chars.append(list(tweets[i]))\n",
    "unique=[]\n",
    "for i in range(len(tweet_chars)-1):\n",
    "    for j in range(len(tweet_chars[i])-1):\n",
    "        if tweet_chars[i][j] not in unique:\n",
    "            unique.append(tweet_chars[i][j])\n",
    "        "
   ]
  },
  {
   "cell_type": "code",
   "execution_count": null,
   "metadata": {
    "collapsed": true
   },
   "outputs": [],
   "source": []
  }
 ],
 "metadata": {
  "kernelspec": {
   "display_name": "Python [conda root]",
   "language": "python",
   "name": "conda-root-py"
  },
  "language_info": {
   "codemirror_mode": {
    "name": "ipython",
    "version": 3
   },
   "file_extension": ".py",
   "mimetype": "text/x-python",
   "name": "python",
   "nbconvert_exporter": "python",
   "pygments_lexer": "ipython3",
   "version": "3.5.2"
  }
 },
 "nbformat": 4,
 "nbformat_minor": 1
}
